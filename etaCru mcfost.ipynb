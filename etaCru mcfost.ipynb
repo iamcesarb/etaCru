{
 "cells": [
  {
   "cell_type": "markdown",
   "id": "7d7eddea",
   "metadata": {},
   "source": [
    "# Eta Cru's Debri Disk Spectral Energy Distribution with mcfost"
   ]
  },
  {
   "cell_type": "markdown",
   "id": "db61551c",
   "metadata": {},
   "source": [
    "In the following script evaluates different values of disk radius, dust mass and dust grain in a theoretical spectral energy distribution model using mcfost software. \n",
    "\n",
    "This program writes, run and compare the results of the model with the actual observated data until it gets the best fit model. \n"
   ]
  },
  {
   "cell_type": "markdown",
   "id": "f7943a2b",
   "metadata": {},
   "source": [
    "### Set the environment"
   ]
  },
  {
   "cell_type": "markdown",
   "id": "1401f634",
   "metadata": {},
   "source": [
    "Before runing the script, the following command should have been input in the linux terminal.\n",
    "```\n",
    "export MCFOST_UTILS=~/mcfost/utils\n",
    "```"
   ]
  },
  {
   "cell_type": "code",
   "execution_count": 2,
   "id": "ad81f26c",
   "metadata": {},
   "outputs": [],
   "source": [
    "import subprocess\n",
    "import astropy\n",
    "from astropy.io import fits\n",
    "from scipy import constants, stats\n",
    "import scipy \n",
    "import numpy as np\n",
    "import matplotlib.pyplot as plt\n",
    "import pandas as pd\n",
    "import scipy.interpolate as spi\n",
    "from scipy.optimize import minimize, Bounds \n",
    "import time"
   ]
  },
  {
   "cell_type": "markdown",
   "id": "fd98a09b",
   "metadata": {},
   "source": [
    "### mcfost Negative log likelihood function\n",
    "\n"
   ]
  },
  {
   "cell_type": "code",
   "execution_count": null,
   "id": "8e348dac",
   "metadata": {},
   "outputs": [],
   "source": [
    "def nll_mcfost(params,  lamob, fluxob, ferrob):\n",
    "\t\t\n",
    "\tamin = params[0]\n",
    "\tamax = params[1]\n",
    "\td_mass = params[2]\n",
    "\tRin = params[3]\n",
    "\tRout = params[4]\n",
    "\n",
    "\t# 1. Create mcfost cfg file with parameters\n",
    "\t\n",
    "\tcfile = open(\"EtaCru.cfg\", \"w\")\n",
    "\tcfile.write(\"3.0                      mcfost version\\n\")\n",
    "\tcfile.write(\"\\n\")\n",
    "\tcfile.write(\"#Number of photon packages\\n\")\n",
    "\tcfile.write(\"  1.28e5                  nbr_photons_eq_th  : T computation\\n\")\n",
    "\tcfile.write(\"  1.28e3\t          nbr_photons_lambda : SED computation\\n\")\n",
    "\tcfile.write(\"  1.28e6                  nbr_photons_image  : images computation\\n\")\n",
    "\tcfile.write(\"\\n\")\n",
    "\tcfile.write(\"#Wavelength\\n\")\n",
    "\tcfile.write(\"  50  0.1 3000.0          n_lambda, lambda_min, lambda_max [mum] Do not change this line unless you know what you are doing\\n\")\n",
    "\tcfile.write(\"  T T T \t\t  compute temperature?, compute sed?, use default wavelength grid for output ?\\n\")\n",
    "\tcfile.write(\"  IMLup.lambda\t\t  wavelength file (if previous parameter is F)\\n\")\n",
    "\tcfile.write(\"  F F\t\t\t  separation of different contributions?, stokes parameters?\\n\")\n",
    "\tcfile.write(\"\\n\")\n",
    "\tcfile.write(\"#Grid geometry and size\\n\")\n",
    "\tcfile.write(\"  1\t\t\t  1 = cylindrical, 2 = spherical (a Voronoi mesh is selected automatically with -phantom)\\n\")\n",
    "\tcfile.write(\" 100 70 1 20              n_rad (log distribution), nz (or n_theta), n_az, n_rad_in\\n\")\n",
    "\tcfile.write(\"\\n#Maps\\n\")\n",
    "\tcfile.write(\"  301 301 300.            grid (nx,ny), size [AU]\\n\")\n",
    "\tcfile.write(\"  0.    0.  1  F           RT: imin, imax, n_incl, centered ?\\n\")\n",
    "\tcfile.write(\"  0    0.   1             RT: az_min, az_max, n_az angles\\n\")\n",
    "\tcfile.write(\"  37.51\t\t\t  distance (pc)\\n\")\n",
    "\tcfile.write(\"  -90.\t\t\t  disk PA\\n\")\n",
    "\tcfile.write(\"\\n#Scattering method\\n\")\n",
    "\tcfile.write(\"  0\t                  0=auto, 1=grain prop, 2=cell prop\\n\")\n",
    "\tcfile.write(\"  1\t                  1=exact phase function, 2=hg function with same g (2 implies the loss of polarizarion)\\n\")\n",
    "\tcfile.write(\"\\n#Symmetries\\n\")\n",
    "\tcfile.write(\"  T\t                  image symmetry\\n\")\n",
    "\tcfile.write(\"  T\t                  central symmetry\\n\")\n",
    "\tcfile.write(\"  T\t                  axial symmetry (important only if N_phi > 1)\\n\")\n",
    "\tcfile.write(\"\\n#Disk physics\\n\")\n",
    "\tcfile.write(\"  0     0.50  1.0\t  dust_settling (0=no settling, 1=parametric, 2=Dubrulle, 3=Fromang), exp_strat, a_strat (for parametric settling)\\n\")\n",
    "\tcfile.write(\"  F                       dust radial migration\\n\")\n",
    "\tcfile.write(\"  F\t\t  \t  sublimate dust\\n\")\n",
    "\tcfile.write(\"  F                       hydostatic equilibrium\\n\")\n",
    "\tcfile.write(\"  F  1e-5\t\t  vimbb_bounds = Bounds(mbb_lower_bounds, mbb_upper_bounds)scous heating, alpha_viscosity\\n\")\n",
    "\tcfile.write(\"\\n#Number of zones : 1 zone = 1 density structure + corresponding grain properties\\n\")\n",
    "\tcfile.write(\"  1                       needs to be 1 if you read a density file (phantom or fits file)\\n\")\n",
    "\tcfile.write(\"\\n#Density structure\\n\")\n",
    "\tcfile.write(\"  4                       zone type : 1 = disk, 2 = tappered-edge disk, 3 = envelope, 4 = debris disk, 5 = wall\\n\")\n",
    "\tcfile.write(f\"  {d_mass:.1g}    0.\t\t  dust mass,  gas-to-dust mass ratio\\n\")\n",
    "\tcfile.write(\"  0.05   10.0   2           scale height, reference radius (AU), unused for envelope, vertical profile exponent (only for debris disk)\\n\")\n",
    "\tcfile.write(f\"  {Rin}   0.2    {Rout}  {(Rout+Rin)/2}  Rin, edge, Rout, Rc (AU) Rc is only used for tappered-edge & debris disks (Rout set to 8*Rc if Rout==0)\\n\")\n",
    "\tcfile.write(\"  1.125                   flaring exponent, unused for envelope\\n\")\n",
    "\tcfile.write(\"  1  -1    \t          surface density exponent (or -gamma for tappered-edge disk or volume density for envelope), usually < 0, -gamma_exp (or alpha_in & alpha_out for debris disk)\\n\")\n",
    "\tcfile.write(\"\\n#Grain properties\\n\")\n",
    "\tcfile.write(\"  1  Number of species\\n\")\n",
    "\tcfile.write(\"  Mie  1 2  0.4  1.0  0.9 Grain type (Mie or DHS), N_components, mixing rule (1 = EMT or 2 = coating),  porosity, mass fraction, Vmax (for DHS)\\n\")\n",
    "\tcfile.write(\"  Draine_Si_sUV.dat  1.0  Optical indices file, volume fraction\\n\")\n",
    "\tcfile.write(\"  2\t                  Heating method : 1 = RE + LTE, 2 = RE + NLTE, 3 = NRE\\n\")\n",
    "\tcfile.write(f\"  {amin}   {amax} 3.5 100 \t  amin, amax [mum], aexp, n_grains (log distribution)\\n\")\n",
    "\tcfile.write(\"\\n#Molecular RT settings\\n\")\n",
    "\tcfile.write(\"  F F F 15.\t          lpop, laccurate_pop, LTE, profile width [km/s]\\n\")\n",
    "\tcfile.write(\"  0.05 \t\t\t  Turbulence velocity [km/s]\\n\")\n",
    "\tcfile.write(\"  1\t\t\t  Number of molecules\\n\")\n",
    "\tcfile.write(\"  co.dat 6                molecular data filename, level max up to which NLTE populations are calculated\\n\")\n",
    "\tcfile.write(\"  10.0 20     \t  \t  vmax [km/s], number of velocity bins betwen 0 and vmax\\n\")\n",
    "\tcfile.write(\"  T 1.e-4 abundance.fits.gz   cst molecule abundance ?, abundance, abundance file\\n\")\n",
    "\tcfile.write(\"  T  2                       ray tracing ?,  number of lines in ray-tracing\\n\")\n",
    "\tcfile.write(\"  2 3\t \t\t  transition numbers\\n\")\n",
    "\tcfile.write(\"\\n#Star properties\\n\")\n",
    "\tcfile.write(\"  1 Number of stars\\n\")\n",
    "\tcfile.write(\"  7250.\t1.87\t1.75\t0.0\t0.0\t0.0  T Temp, radius (solar radius),M (solar mass),x,y,z (AU), automatic spectrum?\\n\")\n",
    "\tcfile.write(\"  lte4000-3.5.NextGen.fits.gz\\n\")\n",
    "\tcfile.write(\"  0.0\t2.2  fUV, slope_fUV\\n\")\n",
    "\tcfile.close()\n",
    "\t\n",
    "\t##2. Run mcfost with parameters of the .cfg\n",
    "\t#Remove previous data file\n",
    "\tsubprocess.call(\"rm -rf data_*\", shell=True)\n",
    "\t#Run mcfost Etacru.cfg\n",
    "\tsubprocess.run(\"mcfost EtaCru.cfg\", shell=True)\n",
    "\t#Uncompress SED files\n",
    "\tsubprocess.call(\"gzip -d data_th/sed_rt.fits.gz\", shell=True)\n",
    "\tsubprocess.call(\"gzip -d data_th/sed_mc.fits.gz\", shell=True)\n",
    "\t\n",
    "\t##3. Read mcfost output file\n",
    "\t\n",
    "\t\t# Ray tracing method SED\n",
    "\tSED_rt = fits.open(\"/home/iamcesarb/Delaware/Project/emcee_mcfost/data_th/sed_rt.fits\")\n",
    "\tflux_rt = fits.getdata(\"/home/iamcesarb/Delaware/Project/emcee_mcfost/data_th/sed_rt.fits\", ext=0)\n",
    "\tflux_rt = flux_rt[0,0,0] ##Flux units in Wemcee_mcfost/data_th/sed_rt.fits * m**-2\n",
    "\tlam_rt = fits.getdata(\"/home/iamcesarb/Delaware/Project/emcee_mcfost/data_th/sed_rt.fits\", ext=1)\n",
    "\t\n",
    "\t\n",
    "\t\n",
    "\t#4 interpolates SED predicted by mcfost to get predicted fluxes at our wavelengths \n",
    "\t\t## Im just usind the RT-model\n",
    "\tinterp = spi.interp1d(np.log10(lam_rt), np.log10(flux_rt), \"cubic\")\n",
    "\tflux_model = 10**(interp(np.log10(lamob))) #Wm**-2\t\n",
    "\t\n",
    "\t\n",
    "\t## 5. likelihood of model\n",
    "\t\n",
    "\tlogLik = -np.sum(stats.norm.logpdf(fluxob, loc=flux_model, scale=ferrob))\n",
    "\t\n",
    "\treturn(logLik) \n"
   ]
  },
  {
   "cell_type": "code",
   "execution_count": 3,
   "id": "55c45310",
   "metadata": {
    "scrolled": false
   },
   "outputs": [],
   "source": [
    "#Observations data\n",
    "lam_ob =np.array([24,70, 70, 100,160]) #microns\n",
    "nu = constants.c/(lam_ob * 1e-6) #lam in meters\n",
    "flux_ob=np.array([374.6, 702, 692, 704,440.3]) #Units in mJy\n",
    "ferr_ob=np.array([3.8, 38, 52.6, 95.1, 146]) #Units in mJy\n",
    "flux_ob *= 1e-29 * nu  #Units in W*m**-2\n",
    "ferr_ob *= 1e-29 * nu #Units in W*m**-2\t\n",
    "\n",
    "#Minimize bounds\n",
    "#amin, amax, d_mass\n",
    "lower_bounds = np.array([1e-2, 5e2, 1e-10, 70, 101])\n",
    "upper_bounds = np.array([1e1, 5e3, 1e-7, 100, 130 ])\n",
    "bounds = Bounds(lower_bounds, upper_bounds)\n",
    "\n",
    "guesses = np.array([1e-2, 1000, 9e-9, 105, 125])\n",
    "\n",
    "args = (lam_ob, flux_ob, ferr_ob)"
   ]
  },
  {
   "cell_type": "code",
   "execution_count": null,
   "id": "00f82da6",
   "metadata": {},
   "outputs": [],
   "source": [
    "start_time = time.time()\n",
    "\n",
    "mcfost_result = minimize(nll_mcfost, guesses, args=args, method='Powell',bounds=bounds, options={'maxiter': 1000}) \n",
    "print(mcfost_result)\n",
    "\n",
    "print(\"--- %s seconds ---\" % (time.time() - start_time))"
   ]
  },
  {
   "cell_type": "markdown",
   "id": "184c069e",
   "metadata": {},
   "source": [
    "```\n",
    " direc: array([[ 0.        ,  0.        ,  0.        ,  0.        ,  1.        ],\n",
    "       [ 0.        ,  1.        ,  0.        ,  0.        ,  0.        ],\n",
    "       [ 0.        ,  0.        ,  1.        ,  0.        ,  0.        ],\n",
    "       [ 0.        ,  0.        ,  0.        ,  1.        ,  0.        ],\n",
    "       [ 0.04899869,  4.43867692,  0.        , -1.30016047,  1.62904482]])\n",
    "     fun: -139.73769509550877\n",
    " message: 'Optimization terminated successfully.'\n",
    "    nfev: 418\n",
    "     nit: 4\n",
    "  status: 0\n",
    " success: True\n",
    "\n",
    "Amin (microns) = 4.79953495e-01 \n",
    "Amax (microns) = 5.79703066e+02 \n",
    "Dust Mass (M) = 3.82584045e-08 \n",
    "Rin (AU) = 7.71034287e+01 \n",
    "Rout (AU) = 1.25111609e+02\n",
    "```"
   ]
  },
  {
   "cell_type": "markdown",
   "id": "70c0fbf6",
   "metadata": {},
   "source": [
    "### Read SED data files "
   ]
  },
  {
   "cell_type": "code",
   "execution_count": 4,
   "id": "48be4992",
   "metadata": {
    "scrolled": true
   },
   "outputs": [],
   "source": [
    "SED_rt = fits.open(\"/home/iamcesarb/Delaware/Project/emcee_mcfost/data_th/sed_rt.fits\")\n",
    "flux_rt = fits.getdata(\"/home/iamcesarb/Delaware/Project/emcee_mcfost/data_th/sed_rt.fits\", ext=0)\n",
    "flux_rt = flux_rt[0,0,0] ##Flux units in W * m**-2\n",
    "lam_rt = fits.getdata(\"/home/iamcesarb/Delaware/Project/emcee_mcfost/data_th/sed_rt.fits\", ext=1)"
   ]
  },
  {
   "cell_type": "markdown",
   "id": "02217f75",
   "metadata": {},
   "source": [
    "### Plot the SED"
   ]
  },
  {
   "cell_type": "code",
   "execution_count": 5,
   "id": "74c7887a",
   "metadata": {},
   "outputs": [
    {
     "data": {
      "image/png": "[encoded data removed]",
      "text/plain": [
       "<Figure size 432x288 with 1 Axes>"
      ]
     },
     "metadata": {
      "needs_background": "light"
     },
     "output_type": "display_data"
    },
    {
     "data": {
      "image/png": "[encoded data removed]",
      "text/plain": [
       "<Figure size 432x288 with 1 Axes>"
      ]
     },
     "metadata": {
      "needs_background": "light"
     },
     "output_type": "display_data"
    }
   ],
   "source": [
    "#SED Ray Tracing Method\n",
    "plt.figure(1)\n",
    "plt.plot(lam_rt, flux_rt, color='coral', label='SED')\n",
    "plt.errorbar(lam_ob, flux_ob, yerr=ferr_ob, fmt='.', color='blue', alpha=0.6, label='Observations')\n",
    "plt.xlabel('Wavelenght ($\\mu$m)', fontsize='x-large')\n",
    "plt.ylabel('W * m**⁻2', fontsize='x-large')\n",
    "plt.legend(loc='best', fontsize='large')\n",
    "plt.title(\"RT Spectral Energy Distribution HD105211\")\n",
    "plt.yscale(\"log\")\n",
    "plt.xscale(\"log\")\n",
    "plt.savefig(\"SED_rt.png\", bbox_inches='tight')\n",
    "\n",
    "#Zoomed SED\n",
    "plt.figure(2)\n",
    "plt.plot(lam_rt, flux_rt, color='coral', label='SED')\n",
    "plt.errorbar(lam_ob, flux_ob, yerr=ferr_ob, fmt='.', color='blue', alpha=0.6, label='Observations')\n",
    "plt.xlabel('Wavelenght ($\\mu$m)', fontsize='x-large')\n",
    "plt.ylabel('W * m**⁻2', fontsize='x-large')\n",
    "plt.legend(loc='best', fontsize='large')\n",
    "plt.title(\"RT Spectral Energy Distribution HD105211\")\n",
    "plt.yscale(\"log\")\n",
    "plt.xscale(\"log\")\n",
    "plt.xlim([2e1,2e2 ])\n",
    "plt.ylim([5e-15,1e-13])\n",
    "plt.savefig(\"SED2_rt.png\", bbox_inches='tight')\n"
   ]
  },
  {
   "cell_type": "code",
   "execution_count": null,
   "id": "5b976655",
   "metadata": {},
   "outputs": [],
   "source": []
  }
 ],
 "metadata": {
  "kernelspec": {
   "display_name": "Python 3 (ipykernel)",
   "language": "python",
   "name": "python3"
  },
  "language_info": {
   "codemirror_mode": {
    "name": "ipython",
    "version": 3
   },
   "file_extension": ".py",
   "mimetype": "text/x-python",
   "name": "python",
   "nbconvert_exporter": "python",
   "pygments_lexer": "ipython3",
   "version": "3.9.12"
  }
 },
 "nbformat": 4,
 "nbformat_minor": 5
}
